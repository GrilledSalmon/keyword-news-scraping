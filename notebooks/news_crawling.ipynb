{
 "cells": [
  {
   "cell_type": "markdown",
   "metadata": {},
   "source": [
    "# 구글 뉴스 페이지별 크롤링\n",
    "\n",
    "이 노트북은 구글 뉴스에서 특정 키워드에 대한 여러 페이지의 뉴스를 크롤링하는 예제를 보여줍니다.\n"
   ]
  },
  {
   "cell_type": "code",
   "execution_count": 1,
   "metadata": {},
   "outputs": [],
   "source": [
    "import sys\n",
    "from pathlib import Path\n",
    "\n",
    "# 프로젝트 루트 디렉토리를 Python 경로에 추가\n",
    "project_root = Path.cwd().parent\n",
    "sys.path.append(str(project_root))\n",
    "\n",
    "from src.crawler.google_news import GoogleNewsCrawler\n"
   ]
  },
  {
   "cell_type": "markdown",
   "metadata": {},
   "source": [
    "## 특정 페이지 크롤링 테스트\n"
   ]
  },
  {
   "cell_type": "code",
   "execution_count": 2,
   "metadata": {},
   "outputs": [
    {
     "name": "stderr",
     "output_type": "stream",
     "text": [
      "2025-06-07 22:56:53,247 - src.crawler.google_news - INFO - '우크라' 키워드의 2페이지 검색 중...\n"
     ]
    },
    {
     "name": "stdout",
     "output_type": "stream",
     "text": [
      "'우크라' 키워드의 2페이지 뉴스 검색 중...\n"
     ]
    },
    {
     "name": "stderr",
     "output_type": "stream",
     "text": [
      "2025-06-07 22:56:53,914 - src.crawler.google_news - INFO - '우크라' 2페이지에서 10개 기사 발견\n"
     ]
    },
    {
     "name": "stdout",
     "output_type": "stream",
     "text": [
      "\n",
      "=== 검색 결과: 10개 기사 ===\n",
      "1. 러, 우크라에 보복 공습…트럼프 \"우크라 푸틴에 공격 빌미 제공\n",
      "   출처: 머니투데이\n",
      "   시간: 13시간 전\n",
      "test {'title': '러, 우크라에 보복 공습…트럼프 \"우크라 푸틴에 공격 빌미 제공', 'content': \"러시아와 우크라이나 전쟁이 다시 격해지고 있다. 우크라이나의 대규모 드론(무인기) 공격 '거미줄 작전'에 당한 러시아가 우크라이나에 향한 보복 공습에 나섰고,...\", 'link': 'https://news.mt.co.kr/mtview.php?no=2025060709301236735', 'source': '머니투데이', 'published_time': '13시간 전', 'keyword': '우크라', 'page': 2}\n",
      "\n",
      "2. 티타늄 갑옷 입은 ‘삼성 갤럭시S25 울트라’, 우크라 병사 목숨 구했다\n",
      "   출처: 매일경제\n",
      "   시간: 6시간 전\n",
      "test {'title': '티타늄 갑옷 입은 ‘삼성 갤럭시S25 울트라’, 우크라 병사 목숨 구했다', 'content': '러시아와 전쟁 중인 우크라이나의 한 병사가 삼성전자의 갤럭시 S25 울트라 스마트폰 덕분에 생명을 구한 사연이 전해졌다. 6일(현지시간) 우크라이나의 IT전문 매체...', 'link': 'https://www.mk.co.kr/news/business/11336545', 'source': '매일경제', 'published_time': '6시간 전', 'keyword': '우크라', 'page': 2}\n",
      "\n",
      "3. “우크라전 반대” 첫 난민 인정 러시아인…2심서 판단 뒤집혀\n",
      "   출처: 동아일보\n",
      "   시간: 7시간 전\n",
      "test {'title': '“우크라전 반대” 첫 난민 인정 러시아인…2심서 판단 뒤집혀', 'content': '국내에서 처음으로 소송을 통해 우크라이나 전쟁에 반대한다는 이유로 난민 지위를 인정 받았던 러시아인이 2심에서는 패소했다.7일 법조계에 따르면 서울고법 행정9-3...', 'link': 'https://www.donga.com/news/Society/article/all/20250607/131760419/1', 'source': '동아일보', 'published_time': '7시간 전', 'keyword': '우크라', 'page': 2}\n",
      "\n",
      "4. 러 \"우크라, 포로 교환·전사자 시신 인수 예고 없이 연기\n",
      "   출처: SBS 뉴스\n",
      "   시간: 44분 전\n",
      "test {'title': '러 \"우크라, 포로 교환·전사자 시신 인수 예고 없이 연기', 'content': '러시아가 7일(현지시간) 우크라이나가 전쟁 포로와 전사자 시신 교환을 예고 없이 연기했다고 주장했습니다. 로이터·AFP 통신에 따르면 블라디미르 메딘스키 크렘린궁...', 'link': 'https://news.sbs.co.kr/news/endPage.do?news_id=N1008129399', 'source': 'SBS 뉴스', 'published_time': '44분 전', 'keyword': '우크라', 'page': 2}\n",
      "\n",
      "5. 러시아, 우크라 드론 작전에 ‘심야 도심 공습’ 보복\n",
      "   출처: 조선일보\n",
      "   시간: 11시간 전\n",
      "test {'title': '러시아, 우크라 드론 작전에 ‘심야 도심 공습’ 보복', 'content': '러시아, 우크라 드론 작전에 심야 도심 공습 보복 우크라, 러 군사 기지 타격 이어가 트럼프 우크라 드론 작전 몰랐다며 불만 6일 밤 러시아가 무인기드론와 각종...', 'link': 'https://www.chosun.com/international/international_general/2025/06/07/SZJSUSJCWJD5TPGIREYLH2I3AI/', 'source': '조선일보', 'published_time': '11시간 전', 'keyword': '우크라', 'page': 2}\n",
      "\n",
      "6. 러, 우크라 연일 공습...\"6일 밤 최소 5명 사망\n",
      "   출처: YTN\n",
      "   시간: 2시간 전\n",
      "test {'title': '러, 우크라 연일 공습...\"6일 밤 최소 5명 사망', 'content': '러시아가 우크라이나와 포로 교환을 앞두고 우크라이나 제2도시 하르키우를 비롯한 전...', 'link': 'https://www.ytn.co.kr/_ln/0104_202506072033528200', 'source': 'YTN', 'published_time': '2시간 전', 'keyword': '우크라', 'page': 2}\n",
      "\n",
      "7. 포탄 파편 막아 살았다\"…우크라 군인 '갑옷'된 갤S25 울트라\n",
      "   출처: 중앙일보\n",
      "   시간: 5시간 전\n",
      "test {'title': '포탄 파편 막아 살았다\"…우크라 군인 \\'갑옷\\'된 갤S25 울트라', 'content': '우크라이나의 한 병사가 삼성전자 스마트폰 갤럭시 S25 울트라로 러시아군 포격의 파편을 막은 사연을 공개하며 \"폰이 말 그대로 갑옷이 됐다\"고 말했다.', 'link': 'https://www.joongang.co.kr/article/25341997', 'source': '중앙일보', 'published_time': '5시간 전', 'keyword': '우크라', 'page': 2}\n",
      "\n",
      "8. 러, 포로 교환 앞두고 우크라 연일 공습…5명 사망\n",
      "   출처: KBS 뉴스\n",
      "   시간: 4시간 전\n",
      "test {'title': '러, 포로 교환 앞두고 우크라 연일 공습…5명 사망', 'content': '우크라이나와 포로 교환을 앞두고 러시아가 우크라이나 제2도시 하르키우를 비롯한 전역을 공습해 최소 5명...', 'link': 'https://news.kbs.co.kr/news/view.do?ncd=8273581', 'source': 'KBS 뉴스', 'published_time': '4시간 전', 'keyword': '우크라', 'page': 2}\n",
      "\n",
      "9. “우크라 병사, 갤25 덕에 목숨 건져…티타늄 케이스가 파편 막아줘”\n",
      "   출처: 동아일보\n",
      "   시간: 5시간 전\n",
      "test {'title': '“우크라 병사, 갤25 덕에 목숨 건져…티타늄 케이스가 파편 막아줘”', 'content': '우크라이나의 한 병사가 삼성전자의 갤럭시 S25 울트라 스마트폰 덕에 전장에서 목숨을 건진 사연이 현지 언론을 통해 알려졌다.6일(현지시간) 우크라이나 IT 전문...', 'link': 'https://www.donga.com/news/Inter/article/all/20250607/131760520/1', 'source': '동아일보', 'published_time': '5시간 전', 'keyword': '우크라', 'page': 2}\n",
      "\n",
      "10. 방탄 '삼성폰' 또 우크라 병사 구했다…\"믿기 어려울 정도\n",
      "   출처: 한국경제\n",
      "   시간: 6시간 전\n",
      "test {'title': '방탄 \\'삼성폰\\' 또 우크라 병사 구했다…\"믿기 어려울 정도', 'content': '러시아와 전쟁 중인 우크라이나의 한 병사가 삼성전자의 갤럭시 S25 울트라 스마트폰 덕분에 생명을 구한 사연이 전해졌다. 우크라이나의 IT전문 매체 메자가 6일(현지...', 'link': 'https://www.hankyung.com/article/2025060799027', 'source': '한국경제', 'published_time': '6시간 전', 'keyword': '우크라', 'page': 2}\n",
      "\n"
     ]
    }
   ],
   "source": [
    "# 크롤러 인스턴스 생성\n",
    "crawler = GoogleNewsCrawler()\n",
    "\n",
    "# '우크라' 키워드의 2페이지 기사 제목 가져오기\n",
    "keyword = \"우크라\"\n",
    "page_num = 2\n",
    "time_period = \"d\"  # 지난 1일\n",
    "\n",
    "print(f\"'{keyword}' 키워드의 {page_num}페이지 뉴스 검색 중...\")\n",
    "articles = crawler.get_news_titles_by_page(keyword, page_num, time_period)\n",
    "\n",
    "print(f\"\\n=== 검색 결과: {len(articles)}개 기사 ===\")\n",
    "for i, article in enumerate(articles, 1):\n",
    "    print(f\"{i}. {article['title']}\")\n",
    "    print(f\"   출처: {article['source']}\")\n",
    "    print(f\"   시간: {article['published_time']}\")\n",
    "    print()\n"
   ]
  },
  {
   "cell_type": "markdown",
   "metadata": {},
   "source": [
    "## 여러 페이지 크롤링\n"
   ]
  },
  {
   "cell_type": "code",
   "execution_count": 3,
   "metadata": {},
   "outputs": [
    {
     "name": "stderr",
     "output_type": "stream",
     "text": [
      "2025-06-07 22:58:43,387 - src.crawler.google_news - INFO - '삼성전자' 키워드의 1페이지 검색 중...\n"
     ]
    },
    {
     "name": "stdout",
     "output_type": "stream",
     "text": [
      "'삼성전자' 키워드로 최대 3페이지까지 검색...\n"
     ]
    },
    {
     "name": "stderr",
     "output_type": "stream",
     "text": [
      "2025-06-07 22:58:44,008 - src.crawler.google_news - INFO - '삼성전자' 1페이지에서 10개 기사 발견\n",
      "2025-06-07 22:58:44,009 - src.crawler.google_news - INFO - '삼성전자' 키워드의 2페이지 검색 중...\n",
      "2025-06-07 22:58:44,510 - src.crawler.google_news - INFO - '삼성전자' 2페이지에서 10개 기사 발견\n",
      "2025-06-07 22:58:44,511 - src.crawler.google_news - INFO - '삼성전자' 키워드의 3페이지 검색 중...\n",
      "2025-06-07 22:58:44,875 - src.crawler.google_news - INFO - '삼성전자' 3페이지에서 10개 기사 발견\n"
     ]
    },
    {
     "name": "stdout",
     "output_type": "stream",
     "text": [
      "\n",
      "총 30개 기사를 수집했습니다.\n",
      "\n",
      "페이지별 기사 수:\n",
      "  1페이지: 10개\n",
      "  2페이지: 10개\n",
      "  3페이지: 10개\n",
      "\n",
      "=== 처음 5개 기사 ===\n",
      "1. [1페이지] 우크라 병사 갤럭시폰에 박힌 파편…“갑옷처럼 날 보호해줘”\n",
      "   출처: 조선일보\n",
      "\n",
      "2. [1페이지] 삼성전자, 갤럭시 워치 수면 무호흡 기능 유럽 CE 승인 획득\n",
      "   출처: NSP통신\n",
      "\n",
      "3. [1페이지] 삼성 덕분에 포탄파면 막았다\"…우크라 병사 생명 살린 갤럭시25\n",
      "   출처: 머니투데이\n",
      "\n",
      "4. [1페이지] 방탄 '삼성폰' 또 우크라 병사 구했다…\"믿기 어려울 정도\n",
      "   출처: 한국경제\n",
      "\n",
      "5. [1페이지] 2030년 '2.3조' 중남미시장 정조준\" 삼성전자, 멕시코서 '비스포크 AI가전' 선봬\n",
      "   출처: NBN NEWS\n",
      "\n"
     ]
    }
   ],
   "source": [
    "# 여러 페이지에서 뉴스 수집\n",
    "keyword = \"삼성전자\"\n",
    "max_pages = 3\n",
    "\n",
    "print(f\"'{keyword}' 키워드로 최대 {max_pages}페이지까지 검색...\")\n",
    "all_articles = crawler.get_multiple_pages(keyword, max_pages, \"d\")\n",
    "\n",
    "print(f\"\\n총 {len(all_articles)}개 기사를 수집했습니다.\")\n",
    "\n",
    "# 페이지별 통계\n",
    "from collections import Counter\n",
    "page_counts = Counter([article['page'] for article in all_articles])\n",
    "print(\"\\n페이지별 기사 수:\")\n",
    "for page in sorted(page_counts.keys()):\n",
    "    print(f\"  {page}페이지: {page_counts[page]}개\")\n",
    "\n",
    "# 처음 5개 기사만 출력\n",
    "print(f\"\\n=== 처음 5개 기사 ===\")\n",
    "for i, article in enumerate(all_articles[:5], 1):\n",
    "    print(f\"{i}. [{article['page']}페이지] {article['title']}\")\n",
    "    print(f\"   출처: {article['source']}\")\n",
    "    print()\n"
   ]
  },
  {
   "cell_type": "code",
   "execution_count": 4,
   "metadata": {},
   "outputs": [
    {
     "name": "stdout",
     "output_type": "stream",
     "text": [
      "1. [1페이지] 우크라 병사 갤럭시폰에 박힌 파편…“갑옷처럼 날 보호해줘”\n",
      "   출처: 조선일보\n",
      "\n",
      "2. [1페이지] 삼성전자, 갤럭시 워치 수면 무호흡 기능 유럽 CE 승인 획득\n",
      "   출처: NSP통신\n",
      "\n",
      "3. [1페이지] 삼성 덕분에 포탄파면 막았다\"…우크라 병사 생명 살린 갤럭시25\n",
      "   출처: 머니투데이\n",
      "\n",
      "4. [1페이지] 방탄 '삼성폰' 또 우크라 병사 구했다…\"믿기 어려울 정도\n",
      "   출처: 한국경제\n",
      "\n",
      "5. [1페이지] 2030년 '2.3조' 중남미시장 정조준\" 삼성전자, 멕시코서 '비스포크 AI가전' 선봬\n",
      "   출처: NBN NEWS\n",
      "\n",
      "6. [1페이지] SK하이닉스, 33년만에 삼성전자 제치고 D램시장 1위 등극...주가 연고점 '갱신\n",
      "   출처: 글로벌이코노믹\n",
      "\n",
      "7. [1페이지] “우크라 군인 살린 삼성전자 스마트폰… 티타늄 케이스가 파편 막아”\n",
      "   출처: 천지일보\n",
      "\n",
      "8. [1페이지] 갤럭시 스마트폰은 갑옷? 또 목숨 구했다…우크라이나 전장서 '갑옷' 된 갤럭시 S25 울트라\n",
      "   출처: 뉴스스페이스\n",
      "\n",
      "9. [1페이지] SK하이닉스에 D램 1위 내준 삼성전자, 글로벌 전략회의서 '묘수' 나올까?\n",
      "   출처: 아시아타임즈\n",
      "\n",
      "10. [1페이지] 삼성전자, 1030세대 사로잡은 `포토 어시스트 AI` 사용 2배 급증\n",
      "   출처: 지피코리아\n",
      "\n",
      "11. [2페이지] 6만전자 돌파?\"…삼성전자 개미들 '들썩\n",
      "   출처: 뉴시스\n",
      "\n",
      "12. [2페이지] 티타늄 갑옷 입은 ‘삼성 갤럭시S25 울트라’, 우크라 병사 목숨 구했다\n",
      "   출처: 매일경제\n",
      "\n",
      "13. [2페이지] 거의 갑옷 수준이잖아?\"…우크라 병사 살린 삼성 스마트폰\n",
      "   출처: 아시아경제\n",
      "\n",
      "14. [2페이지] “우크라 병사 살린 삼성 갤럭시폰…티타늄 케이스가 파편 막았다”\n",
      "   출처: 서울경제\n",
      "\n",
      "15. [2페이지] 보고도 눈을 의심\"…삼성폰 전쟁 속 목숨까지 구했다, '대박\n",
      "   출처: 네이트 뉴스\n",
      "\n",
      "16. [2페이지] 삼성전자, 하반기 사업 전략 논의 위한 글로벌 전략회의 개최\n",
      "   출처: 잡포스트\n",
      "\n",
      "17. [2페이지] 러시아 포탄 막아준 '갤S25' 우크라 병사가 전한 감사...삼성 \"무상 수리 진행\n",
      "   출처: YTN\n",
      "\n",
      "18. [2페이지] 삼성폰' 우크라이나 병사 구해…\"갑옷이었다\n",
      "   출처: 뉴시스\n",
      "\n",
      "19. [2페이지] 우크라 병사 살린 갤S25 울트라…티타늄 케이스가 파편 막아\n",
      "   출처: 연합뉴스\n",
      "\n",
      "20. [2페이지] “삼성폰이 내 목숨 지켰다”…우크라 병사의 생존담\n",
      "   출처: 이데일리\n",
      "\n",
      "21. [3페이지] 삼성전자, 갤워치 '수면 무호흡 기능’ 유럽 CE 승인\n",
      "   출처: 파이낸셜투데이\n",
      "\n",
      "22. [3페이지] 삼성전자 \"갤럭시워치 수면 무호흡 확인 기능, EU 인증 획득\n",
      "   출처: MSN\n",
      "\n",
      "23. [3페이지] 갤럭시 S25 울트라가 우크라 군인 살렸다⋯ 티타늄 케이스가 방탄 효과\n",
      "   출처: 이투데이\n",
      "\n",
      "24. [3페이지] 포탄 파편 막아 살았다\"…우크라 군인 '갑옷'된 갤S25 울트라\n",
      "   출처: 중앙일보\n",
      "\n",
      "25. [3페이지] 국내 반도체株 2분기 실적 전망 '맑음'…삼성전자·SK하이닉스 눈높이 '껑충\n",
      "   출처: wwwtheonetvkr\n",
      "\n",
      "26. [3페이지] 낸드에 돈 퍼부었는데…삼성전자·SK하이닉스, 가격 경쟁력에 발목 잡히나\n",
      "   출처: MSN\n",
      "\n",
      "27. [3페이지] 수면 무호흡증 걱정 ‘뚝’…삼성전자, 전 세계가 인정한 해결책 마련\n",
      "   출처: 스포츠서울\n",
      "\n",
      "28. [3페이지] 갤럭시 S25 울트라, 우크라이나 병사의 생명 구한 사연은?\n",
      "   출처: CBC뉴스\n",
      "\n",
      "29. [3페이지] 밸류업 공시 없이도 지수 포함…‘시총 1위’ 삼성전자 특혜 논란\n",
      "   출처: MSN\n",
      "\n",
      "30. [3페이지] 삼성전자·SK하이닉스, 실적 눈높이↑…반도체주 상승세 이어질까\n",
      "   출처: 서울경제TV\n",
      "\n"
     ]
    }
   ],
   "source": [
    "for i, article in enumerate(all_articles, 1):\n",
    "    print(f\"{i}. [{article['page']}페이지] {article['title']}\")\n",
    "    print(f\"   출처: {article['source']}\")\n",
    "    print()"
   ]
  },
  {
   "cell_type": "code",
   "execution_count": null,
   "metadata": {},
   "outputs": [],
   "source": []
  }
 ],
 "metadata": {
  "kernelspec": {
   "display_name": "stock_env",
   "language": "python",
   "name": "python3"
  },
  "language_info": {
   "codemirror_mode": {
    "name": "ipython",
    "version": 3
   },
   "file_extension": ".py",
   "mimetype": "text/x-python",
   "name": "python",
   "nbconvert_exporter": "python",
   "pygments_lexer": "ipython3",
   "version": "3.9.23"
  }
 },
 "nbformat": 4,
 "nbformat_minor": 2
}
